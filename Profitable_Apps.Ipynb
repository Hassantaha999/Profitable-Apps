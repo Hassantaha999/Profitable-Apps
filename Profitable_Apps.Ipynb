{
 "cells": [
  {
   "cell_type": "code",
   "execution_count": 12,
   "metadata": {},
   "outputs": [],
   "source": [
    "## Packages needed in this project\n",
    "from csv import reader"
   ]
  },
  {
   "attachments": {},
   "cell_type": "markdown",
   "metadata": {},
   "source": [
    "# 1) Opening and Exploring the Data"
   ]
  },
  {
   "attachments": {},
   "cell_type": "markdown",
   "metadata": {},
   "source": [
    "### Writing a function to explore the datasets"
   ]
  },
  {
   "cell_type": "code",
   "execution_count": 13,
   "metadata": {},
   "outputs": [],
   "source": [
    "def explore_data(dataset, start, end, rows_and_columns=False, empty_lines=False):\n",
    "    \"\"\"\n",
    "    A function to explore the various datasets. This function takes following arguments: \n",
    "\n",
    "    Arguments: \n",
    "        - dataset (list): list of lists of all data contained in a dataset. \n",
    "        - start (int): start index for the \"dataset\" list. \n",
    "        - end (int): end index for the \"dataset\" list. \n",
    "        - rows_and_columns (boolen): prints number of rows and columns if true (default: false).\n",
    "        - empty_lines (boolean): adds new empty line after each row (list) in the dataset list if true (default: false).\n",
    "        \n",
    "    Returns: \n",
    "        - a slice of the \"dataset\" list (dataset[start:end]). \n",
    "    \"\"\"\n",
    "    \n",
    "    dataset_slice = dataset[start:end]    \n",
    "    for row in dataset_slice:\n",
    "        print(row) \n",
    "        if empty_lines:\n",
    "            print(\"\\n\") # \\n adds new empty line after each row \n",
    "\n",
    "    if rows_and_columns:\n",
    "        print('Number of rows:', len(dataset))\n",
    "        print('Number of columns:', len(dataset[0]))"
   ]
  },
  {
   "attachments": {},
   "cell_type": "markdown",
   "metadata": {},
   "source": [
    "### Opening both datasets and saving them as list of lists"
   ]
  },
  {
   "cell_type": "code",
   "execution_count": 14,
   "metadata": {},
   "outputs": [],
   "source": [
    "apple_store_file = open(\"AppleStore.csv\", encoding=\"utf8\")\n",
    "google_store_file = open(\"googleplaystore.csv\", encoding=\"utf8\")\n",
    "\n",
    "apple_store_reader = reader(apple_store_file)\n",
    "google_store_reader = reader(google_store_file)\n",
    "\n",
    "apple_store_list = list(apple_store_reader)\n",
    "google_store_list = list(google_store_reader)\n",
    "\n",
    "apple_store_header =  list(apple_store_list)[0] # header row of dataset\n",
    "apple_store = list(apple_store_list)[1:] # dataset without header row \n",
    "google_store_header = list(google_store_list)[0] # header row of dataset\n",
    "google_store = list(google_store_list)[1:] # dataset without header row "
   ]
  },
  {
   "attachments": {},
   "cell_type": "markdown",
   "metadata": {},
   "source": [
    "### Explore both datasets using the explore_data() function\n",
    "\n"
   ]
  },
  {
   "cell_type": "code",
   "execution_count": 15,
   "metadata": {},
   "outputs": [
    {
     "name": "stdout",
     "output_type": "stream",
     "text": [
      "Apple store:\n",
      "['284882215', 'Facebook', '389879808', 'USD', '0.0', '2974676', '212', '3.5', '3.5', '95.0', '4+', 'Social Networking', '37', '1', '29', '1']\n",
      "['389801252', 'Instagram', '113954816', 'USD', '0.0', '2161558', '1289', '4.5', '4.0', '10.23', '12+', 'Photo & Video', '37', '0', '29', '1']\n",
      "['529479190', 'Clash of Clans', '116476928', 'USD', '0.0', '2130805', '579', '4.5', '4.5', '9.24.12', '9+', 'Games', '38', '5', '18', '1']\n",
      "Number of rows: 7197\n",
      "Number of columns: 16\n",
      "-----------------------------\n",
      "Google play store:\n",
      "['Photo Editor & Candy Camera & Grid & ScrapBook', 'ART_AND_DESIGN', '4.1', '159', '19M', '10,000+', 'Free', '0', 'Everyone', 'Art & Design', 'January 7, 2018', '1.0.0', '4.0.3 and up']\n",
      "['Coloring book moana', 'ART_AND_DESIGN', '3.9', '967', '14M', '500,000+', 'Free', '0', 'Everyone', 'Art & Design;Pretend Play', 'January 15, 2018', '2.0.0', '4.0.3 and up']\n",
      "['U Launcher Lite – FREE Live Cool Themes, Hide Apps', 'ART_AND_DESIGN', '4.7', '87510', '8.7M', '5,000,000+', 'Free', '0', 'Everyone', 'Art & Design', 'August 1, 2018', '1.2.4', '4.0.3 and up']\n",
      "Number of rows: 10841\n",
      "Number of columns: 13\n"
     ]
    }
   ],
   "source": [
    "print(\"Apple store:\")\n",
    "explore_data(apple_store, 0, 3, True)\n",
    "\n",
    "print(\"-----------------------------\")\n",
    "\n",
    "print(\"Google play store:\")\n",
    "explore_data(google_store, 0, 3, True)"
   ]
  },
  {
   "attachments": {},
   "cell_type": "markdown",
   "metadata": {},
   "source": [
    "### Print the column names, and try to identify the columns that could help us with our analysis."
   ]
  },
  {
   "cell_type": "code",
   "execution_count": 16,
   "metadata": {},
   "outputs": [
    {
     "name": "stdout",
     "output_type": "stream",
     "text": [
      "['id', 'track_name', 'size_bytes', 'currency', 'price', 'rating_count_tot', 'rating_count_ver', 'user_rating', 'user_rating_ver', 'ver', 'cont_rating', 'prime_genre', 'sup_devices.num', 'ipadSc_urls.num', 'lang.num', 'vpp_lic']\n",
      "['App', 'Category', 'Rating', 'Reviews', 'Size', 'Installs', 'Type', 'Price', 'Content Rating', 'Genres', 'Last Updated', 'Current Ver', 'Android Ver']\n"
     ]
    }
   ],
   "source": [
    "print(apple_store_header)\n",
    "print(google_store_header)"
   ]
  },
  {
   "attachments": {},
   "cell_type": "markdown",
   "metadata": {},
   "source": [
    "Documentation for the description of the dataset columns: [Apple Store Dataset](https://www.kaggle.com/datasets/ramamet4/app-store-apple-data-set-10k-apps), [Google Play Store Dataset](https://www.kaggle.com/datasets/lava18/google-play-store-apps)\n",
    "\n",
    "\n",
    "Useful columns for our analysis in the apple store dataset: \n",
    "* **track_name**\n",
    "* **currency**\n",
    "* **price**\n",
    "* **rating_count_tot**\n",
    "* **user_rating**\n",
    "* **prime_genre**\n",
    "* **cont_rating**\n",
    "\n",
    "Useful columns for our analysis in the google play store dataset: \n",
    "* **App** (Application name)\n",
    "* **Category** (Category the app belongs to)\n",
    "* **Rating** (Overall user rating of the app (as when scraped))\n",
    "* **Reviews** (Number of user reviews for the app (as when scraped))\n",
    "* **Installs** (Number of user downloads/installs for the app (as when scraped))\n",
    "* **Type** (Paid or Free)\n",
    "* **Price** (Price of the app (as when scraped))\n",
    "* **Genres** (An app can belong to multiple genres (apart from its main category). For eg, a musical family game will belong to Music, Game, Family genres.)\n"
   ]
  },
  {
   "attachments": {},
   "cell_type": "markdown",
   "metadata": {},
   "source": [
    "# 2) Deleting Wrong Data\n"
   ]
  },
  {
   "attachments": {},
   "cell_type": "markdown",
   "metadata": {},
   "source": [
    "[One of the discussions](https://www.kaggle.com/lava18/google-play-store-apps/discussion/66015) on the google play store dataset on kaggle outline an error for row 10472. Therefore we will write a function to check if there are any row that is incorrect. (i.e. missing values, etc.)"
   ]
  },
  {
   "cell_type": "code",
   "execution_count": 17,
   "metadata": {},
   "outputs": [
    {
     "name": "stdout",
     "output_type": "stream",
     "text": [
      "[] [10472]\n"
     ]
    }
   ],
   "source": [
    "def check_data(store, header):\n",
    "    \"\"\"\n",
    "    This function checks if the length of a row is identical with the length of the header of the dataset. \n",
    "\n",
    "    Arguments: \n",
    "        - Store (list): list of lists of all data contained in a dataset. \n",
    "        - header (list): header list of the dataset. \n",
    "        \n",
    "    Returns: \n",
    "        - a list of incorrect data (rows). \n",
    "    \"\"\"\n",
    "    error_rows = list()\n",
    "    for row in store:\n",
    "        if len(row) != len(header):\n",
    "            error_rows.append(store.index(row))\n",
    "    return error_rows\n",
    "\n",
    "\n",
    "error_rows_apple = check_data(apple_store, apple_store_header)\n",
    "error_rows_google = check_data(google_store, google_store_header)\n",
    "\n",
    "print(error_rows_apple, error_rows_google)"
   ]
  },
  {
   "attachments": {},
   "cell_type": "markdown",
   "metadata": {},
   "source": [
    "Removing all incorrect rows. "
   ]
  },
  {
   "cell_type": "code",
   "execution_count": 18,
   "metadata": {},
   "outputs": [
    {
     "name": "stdout",
     "output_type": "stream",
     "text": [
      "Number of removed rows from the Google Play Store: 1\n",
      "Number of removed rows from the Apple Store: 0\n"
     ]
    }
   ],
   "source": [
    "def remove_rows(store, error_rows, store_name):\n",
    "    \"\"\"\n",
    "    This function delets wrong rows. \n",
    "\n",
    "    Arguments: \n",
    "        - Store (list): list of lists of all data contained in a dataset. \n",
    "        - error_rows (list): a list of incorrect data (rows).\n",
    "        - store_name (string): name of the store dataset. \n",
    "    \"\"\"\n",
    "    num_removed_rows = 0\n",
    "    for row_index in error_rows:\n",
    "        num_removed_rows += 1\n",
    "        del store[row_index]\n",
    "\n",
    "    print(f\"Number of removed rows from the {store_name}: {num_removed_rows}\")\n",
    "\n",
    "remove_rows(google_store, error_rows_google, \"Google Play Store\")\n",
    "remove_rows(apple_store, error_rows_apple, \"Apple Store\")"
   ]
  },
  {
   "attachments": {},
   "cell_type": "markdown",
   "metadata": {},
   "source": [
    "# 3) Removing Duplicate Entries"
   ]
  },
  {
   "attachments": {},
   "cell_type": "markdown",
   "metadata": {},
   "source": [
    "Some apps have duplicate entries in the dataset. Here is an example:"
   ]
  },
  {
   "cell_type": "code",
   "execution_count": 19,
   "metadata": {},
   "outputs": [
    {
     "name": "stdout",
     "output_type": "stream",
     "text": [
      "['Instagram', 'SOCIAL', '4.5', '66577313', 'Varies with device', '1,000,000,000+', 'Free', '0', 'Teen', 'Social', 'July 31, 2018', 'Varies with device', 'Varies with device']\n",
      "['Instagram', 'SOCIAL', '4.5', '66577446', 'Varies with device', '1,000,000,000+', 'Free', '0', 'Teen', 'Social', 'July 31, 2018', 'Varies with device', 'Varies with device']\n",
      "['Instagram', 'SOCIAL', '4.5', '66577313', 'Varies with device', '1,000,000,000+', 'Free', '0', 'Teen', 'Social', 'July 31, 2018', 'Varies with device', 'Varies with device']\n",
      "['Instagram', 'SOCIAL', '4.5', '66509917', 'Varies with device', '1,000,000,000+', 'Free', '0', 'Teen', 'Social', 'July 31, 2018', 'Varies with device', 'Varies with device']\n"
     ]
    }
   ],
   "source": [
    "for app in google_store:\n",
    "    name = app[0]\n",
    "    if name == \"Instagram\":\n",
    "        print(app)"
   ]
  },
  {
   "attachments": {},
   "cell_type": "markdown",
   "metadata": {},
   "source": [
    "Writing a function which finds the number of duplicate entries in each store. "
   ]
  },
  {
   "cell_type": "code",
   "execution_count": 20,
   "metadata": {},
   "outputs": [
    {
     "name": "stdout",
     "output_type": "stream",
     "text": [
      "Number of duplicate entries in the Google Play Store dataset: 1181\n",
      "Number of duplicate entries in the Apple Store dataset: 0\n"
     ]
    }
   ],
   "source": [
    "def duplicate_apps(store, store_name):\n",
    "    \"\"\"\n",
    "    This function finds the number of duplicate entries in a store dataset. \n",
    "\n",
    "    Arguments: \n",
    "        - Store (list): list of lists of all data contained in a dataset. \n",
    "        - store_name (string): name of the store dataset. \n",
    "    \"\"\"\n",
    "    duplicate_apps = list()\n",
    "    unique_apps = list()\n",
    "    for app in store:\n",
    "        name = app[0]\n",
    "        if name in unique_apps:\n",
    "            duplicate_apps.append(name)\n",
    "        else:\n",
    "            unique_apps.append(name)\n",
    "\n",
    "    num_of_duplicates = len(duplicate_apps)\n",
    "    print(f\"Number of duplicate entries in the {store_name} dataset: {num_of_duplicates}\")\n",
    "\n",
    "duplicate_apps(google_store, \"Google Play Store\")\n",
    "duplicate_apps(apple_store, \"Apple Store\")"
   ]
  },
  {
   "attachments": {},
   "cell_type": "markdown",
   "metadata": {},
   "source": [
    "The Apple Store dataset has no duplicated, therefore we will only hanlde the duplicates in the Google Play Store dataset. \n",
    "\n",
    "We could remove the duplicate entries randomly, but I would better use a another criterion to remove the duplicates. As we can see in the four \"Instegram\" entries before, the main difference happens on the fourth position of each row, which corresponds to the number of reviews. So, we will keep the entry with the highest number of reviews and remove the rest. "
   ]
  },
  {
   "cell_type": "code",
   "execution_count": 43,
   "metadata": {},
   "outputs": [
    {
     "name": "stdout",
     "output_type": "stream",
     "text": [
      "Before removing duplicate entries:\n",
      "Number of duplicate entries in the Google Play Store dataset: 1181 (total entries: 10840)\n",
      "After removing duplicate entries:\n",
      "Number of entries in the Google Play Store dataset after removing duplicate entries: 9659\n"
     ]
    }
   ],
   "source": [
    "def remove_duplicates(store, store_name):\n",
    "    \"\"\"\n",
    "    This function finds the duplicate entries in a store dataset and removes them. \n",
    "\n",
    "    Arguments: \n",
    "        - Store (list): list of lists of all data contained in a dataset. \n",
    "        - store_name (string): name of the store dataset. \n",
    "    \"\"\"\n",
    "    duplicate_apps = list()\n",
    "    num_duplicates = dict()\n",
    "    reviews_max = dict()\n",
    "    for index, app in enumerate(store):\n",
    "        name = app[0]\n",
    "        reviews = float(app[3])\n",
    "        if name in reviews_max and reviews < reviews_max[name][1]:\n",
    "            duplicate_apps.append(store[index])\n",
    "            num_duplicates[name] += 1\n",
    "        else:\n",
    "            if name in reviews_max:\n",
    "                duplicate_apps.append(store[reviews_max[name][0]])\n",
    "                reviews_max[name] = (index, reviews)\n",
    "                num_duplicates[name] += 1\n",
    "            else:\n",
    "                reviews_max[name] = (index, reviews)\n",
    "                num_duplicates[name] = 0\n",
    "\n",
    "    print(\"Before removing duplicate entries:\")\n",
    "    print(f\"Number of duplicate entries in the {store_name} dataset: {len(duplicate_apps)} (total entries: {len(store)})\")\n",
    "    \n",
    "    clean_dataset = list()\n",
    "    already_added = list()\n",
    "    for row in store:\n",
    "        name = row[0]\n",
    "        reviews = float(row[3])\n",
    "        if reviews == reviews_max[name][1] and name not in already_added:\n",
    "            clean_dataset.append(row)\n",
    "            already_added.append(name)\n",
    "    \n",
    "    print(\"After removing duplicate entries:\")\n",
    "    print(f\"Number of entries in the {store_name} dataset after removing duplicate entries: {len(clean_dataset)}\")\n",
    "\n",
    "    return clean_dataset\n",
    "\n",
    "google_store_clean = remove_duplicates(google_store, \"Google Play Store\")"
   ]
  },
  {
   "attachments": {},
   "cell_type": "markdown",
   "metadata": {},
   "source": [
    "let's explore the new (clean) dataset using the explore_data function. "
   ]
  },
  {
   "cell_type": "code",
   "execution_count": 42,
   "metadata": {},
   "outputs": [
    {
     "name": "stdout",
     "output_type": "stream",
     "text": [
      "['Photo Editor & Candy Camera & Grid & ScrapBook', 'ART_AND_DESIGN', '4.1', '159', '19M', '10,000+', 'Free', '0', 'Everyone', 'Art & Design', 'January 7, 2018', '1.0.0', '4.0.3 and up']\n",
      "['U Launcher Lite – FREE Live Cool Themes, Hide Apps', 'ART_AND_DESIGN', '4.7', '87510', '8.7M', '5,000,000+', 'Free', '0', 'Everyone', 'Art & Design', 'August 1, 2018', '1.2.4', '4.0.3 and up']\n",
      "['Sketch - Draw & Paint', 'ART_AND_DESIGN', '4.5', '215644', '25M', '50,000,000+', 'Free', '0', 'Teen', 'Art & Design', 'June 8, 2018', 'Varies with device', '4.2 and up']\n",
      "Number of rows: 9659\n",
      "Number of columns: 13\n"
     ]
    }
   ],
   "source": [
    "explore_data(google_store_clean, 0, 3, True, False)"
   ]
  },
  {
   "attachments": {},
   "cell_type": "markdown",
   "metadata": {},
   "source": [
    "# 4) Removing Non-English Apps"
   ]
  },
  {
   "attachments": {},
   "cell_type": "markdown",
   "metadata": {},
   "source": [
    "In our analysis we are only interested in apps designed for an English-speaking audience. if we explore the data long enough, we'll find that both datasets have apps with names that suggest they are not designed for an English-speaking audience."
   ]
  },
  {
   "cell_type": "code",
   "execution_count": 50,
   "metadata": {},
   "outputs": [
    {
     "name": "stdout",
     "output_type": "stream",
     "text": [
      "爱奇艺PPS -《欢乐颂2》电视剧热播\n",
      "【脱出ゲーム】絶対に最後までプレイしないで 〜謎解き＆ブロックパズル〜\n",
      "\n",
      "\n",
      "中国語 AQリスニング\n",
      "لعبة تقدر تربح DZ\n"
     ]
    }
   ],
   "source": [
    "print(apple_store[813][1])\n",
    "print(apple_store[6731][1])\n",
    "print(\"\\n\")\n",
    "print(google_store_clean[4412][0])\n",
    "print(google_store_clean[7940][0])"
   ]
  },
  {
   "attachments": {},
   "cell_type": "markdown",
   "metadata": {},
   "source": [
    "As we are targeting only English-speaking audience, we are not interested in these apps. So we will remove them from the datasets. We will write a function which checks if a string (name of an app) belong to the set of common English characters. "
   ]
  },
  {
   "cell_type": "code",
   "execution_count": 69,
   "metadata": {},
   "outputs": [
    {
     "name": "stdout",
     "output_type": "stream",
     "text": [
      "True\n",
      "False\n",
      "False\n",
      "False\n"
     ]
    }
   ],
   "source": [
    "def is_eng(string):\n",
    "    \"\"\"\n",
    "    A function that checks if a given string consists of English characters.\n",
    "    \n",
    "    Args:\n",
    "        - string (str): A string to be checked for English characters.\n",
    "    \n",
    "    Returns:\n",
    "        - boolean: True if the string consists of only English characters, False otherwise.\n",
    "    \"\"\"\n",
    "\n",
    "    # Check if the Unicode code point of the character is greater than 127\n",
    "    # This check is based on the assumption that the ASCII code points cover all English characters\n",
    "    # Characters outside this range may be non-English, special characters or non-printable characters\n",
    "    for char in string:\n",
    "        if ord(char) > 127:\n",
    "            return False\n",
    "    return True\n",
    "\n",
    "print(is_eng(\"Instagram\"))\n",
    "print(is_eng('爱奇艺PPS -《欢乐颂2》电视剧热播'))\n",
    "print(is_eng('Docs To Go™ Free Office Suite'))\n",
    "print(is_eng('Instachat 😜'))"
   ]
  },
  {
   "attachments": {},
   "cell_type": "markdown",
   "metadata": {},
   "source": [
    "If we use the function we've created, we'll lose useful data since many English apps will be incorrectly labeled as non-English, as there are many emojis and character that fall outside the ASCII range of 1 to 127. "
   ]
  },
  {
   "cell_type": "code",
   "execution_count": 68,
   "metadata": {},
   "outputs": [
    {
     "name": "stdout",
     "output_type": "stream",
     "text": [
      "128540\n",
      "8482\n"
     ]
    }
   ],
   "source": [
    "print(ord(\"😜\"))\n",
    "print(ord(\"™\"))"
   ]
  },
  {
   "attachments": {},
   "cell_type": "markdown",
   "metadata": {},
   "source": [
    "To minimize the impact of data loss, we'll only remove an app if its name has more than three characters with corresponding numbers falling outside the ASCII range."
   ]
  },
  {
   "cell_type": "code",
   "execution_count": 73,
   "metadata": {},
   "outputs": [
    {
     "name": "stdout",
     "output_type": "stream",
     "text": [
      "True\n",
      "False\n",
      "True\n",
      "True\n"
     ]
    }
   ],
   "source": [
    "def is_eng_modified(string):\n",
    "    \"\"\"\n",
    "    A function that checks if a given string consists of English characters.\n",
    "    \n",
    "    Args:\n",
    "        - string (str): A string to be checked for English characters.\n",
    "    \n",
    "    Returns:\n",
    "        - boolean: False if the string consists of more than three non-english characters, True otherwise.\n",
    "    \"\"\"\n",
    "    \n",
    "    non_eng = list()\n",
    "    for char in string:\n",
    "        if ord(char) > 127:\n",
    "            non_eng.append(char) \n",
    "\n",
    "    if len(non_eng) > 3:\n",
    "        return False\n",
    "    else:\n",
    "        return True\n",
    "\n",
    "print(is_eng_modified(\"Instagram\"))\n",
    "print(is_eng_modified('爱奇艺PPS -《欢乐颂2》电视剧热播'))\n",
    "print(is_eng_modified('Docs To Go™ Free Office Suite'))\n",
    "print(is_eng_modified('Instachat 😜'))"
   ]
  },
  {
   "attachments": {},
   "cell_type": "markdown",
   "metadata": {},
   "source": [
    "We will now use the new function to filter out non-English apps from both datasets."
   ]
  },
  {
   "cell_type": "code",
   "execution_count": 84,
   "metadata": {},
   "outputs": [
    {
     "name": "stdout",
     "output_type": "stream",
     "text": [
      "Number of apps in the Google Play Store dataset (incl. non-english apps): 9659\n",
      "Number of apps in the Google Play Store dataset (only english apps): 9614\n",
      "----------------------------------------------------------------------\n",
      "Number of apps in the Apple Store dataset (incl. non-english apps): 7197\n",
      "Number of apps in the Apple Store dataset (only english apps): 6183\n"
     ]
    }
   ],
   "source": [
    "def reomve_non_eng(store):\n",
    "    \"\"\"\n",
    "    A function that remove non-english apps.\n",
    "    \n",
    "    Args:\n",
    "        - Store (list): list of lists of all data contained in the dataset. \n",
    "    \n",
    "    Returns:\n",
    "        - clean_store (list): list of lists of all english apps contained in the dataset. \n",
    "    \"\"\"\n",
    "        \n",
    "    clean_store = list()\n",
    "    if store == google_store_clean:\n",
    "        for row in store:\n",
    "            name = row[0]\n",
    "            if is_eng_modified(name):\n",
    "                clean_store.append(row)\n",
    "    elif store == apple_store:\n",
    "        for row in store:\n",
    "            name = row[1]\n",
    "            if is_eng_modified(name):\n",
    "                clean_store.append(row)\n",
    "    return clean_store\n",
    "\n",
    "\n",
    "google_store_eng = reomve_non_eng(google_store_clean)\n",
    "apple_store_eng = reomve_non_eng(apple_store)\n",
    "\n",
    "print(f\"Number of apps in the Google Play Store dataset (incl. non-english apps): {len(google_store_clean)}\")\n",
    "print(f\"Number of apps in the Google Play Store dataset (only english apps): {len(google_store_eng)}\")\n",
    "print(\"-\"*70)\n",
    "print(f\"Number of apps in the Apple Store dataset (incl. non-english apps): {len(apple_store)}\")\n",
    "print(f\"Number of apps in the Apple Store dataset (only english apps): {len(apple_store_eng)}\")"
   ]
  },
  {
   "attachments": {},
   "cell_type": "markdown",
   "metadata": {},
   "source": [
    "# 5) Isolating the Free Apps"
   ]
  },
  {
   "attachments": {},
   "cell_type": "markdown",
   "metadata": {},
   "source": [
    "We only build apps that are free to download and install, and our main source of revenue consists of in-app ads. Our datasets contain both free and non-free apps; we'll need to isolate only the free apps for our analysis."
   ]
  },
  {
   "cell_type": "code",
   "execution_count": 99,
   "metadata": {},
   "outputs": [
    {
     "name": "stdout",
     "output_type": "stream",
     "text": [
      "Number of apps in the Google Play Store dataset (incl. paid apps): 9614\n",
      "Number of apps in the Google Play Store dataset (only free apps): 8863\n",
      "----------------------------------------------------------------------\n",
      "Number of apps in the Apple Store dataset (incl. paid apps): 6183\n",
      "Number of apps in the Apple Store dataset (only free apps): 3222\n"
     ]
    }
   ],
   "source": [
    "def remove_paid(store):\n",
    "    clean_store = list()\n",
    "    if store == google_store_eng:\n",
    "        for row in store:\n",
    "            paid_or_free = row[6]\n",
    "            if paid_or_free == \"Free\":\n",
    "                clean_store.append(row)\n",
    "    elif store == apple_store_eng:\n",
    "        for row in store:\n",
    "            price = row[4]\n",
    "            if float(price) == 0.0:\n",
    "                clean_store.append(row)\n",
    "    return clean_store\n",
    "\n",
    "google_store_final = remove_paid(google_store_eng)\n",
    "apple_store_final = remove_paid(apple_store_eng)\n",
    "\n",
    "print(f\"Number of apps in the Google Play Store dataset (incl. paid apps): {len(google_store_eng)}\")\n",
    "print(f\"Number of apps in the Google Play Store dataset (only free apps): {len(google_store_final)}\")\n",
    "print(\"-\"*70)\n",
    "print(f\"Number of apps in the Apple Store dataset (incl. paid apps): {len(apple_store_eng)}\")\n",
    "print(f\"Number of apps in the Apple Store dataset (only free apps): {len(apple_store_final)}\")"
   ]
  },
  {
   "attachments": {},
   "cell_type": "markdown",
   "metadata": {},
   "source": [
    "# 6) Most Common Apps by Genre"
   ]
  },
  {
   "attachments": {},
   "cell_type": "markdown",
   "metadata": {},
   "source": [
    "Our goal is to determine the kinds of apps that are likely to attract more users because the number of people using our apps affect our revenue. \n",
    "To minimize risks and overhead, our validation strategy for an app idea has three steps:\n",
    "* Build a minimal Android version of the app, and add it to Google Play.\n",
    "* If the app has a good response from users, we develop it further.\n",
    "* If the app is profitable after six months, we build an iOS version of the app and add it to the App Store."
   ]
  },
  {
   "attachments": {},
   "cell_type": "markdown",
   "metadata": {},
   "source": [
    "We want now to know which columns in both datasets can be used to determine the most common apps by genres. "
   ]
  },
  {
   "cell_type": "code",
   "execution_count": 140,
   "metadata": {},
   "outputs": [
    {
     "name": "stdout",
     "output_type": "stream",
     "text": [
      "['App', 'Category', 'Rating', 'Reviews', 'Size', 'Installs', 'Type', 'Price', 'Content Rating', 'Genres', 'Last Updated', 'Current Ver', 'Android Ver']\n",
      "['id', 'track_name', 'size_bytes', 'currency', 'price', 'rating_count_tot', 'rating_count_ver', 'user_rating', 'user_rating_ver', 'ver', 'cont_rating', 'prime_genre', 'sup_devices.num', 'ipadSc_urls.num', 'lang.num', 'vpp_lic']\n"
     ]
    }
   ],
   "source": [
    "print(google_store_header)\n",
    "print(apple_store_header)"
   ]
  },
  {
   "attachments": {},
   "cell_type": "markdown",
   "metadata": {},
   "source": [
    "From the header of both datasets we can conclude that the column \"Category\" and \"prime_genre\" for the Google Play Store dataset and Apple Store dataset, recpectively, can be used for the specified perpuose. "
   ]
  },
  {
   "cell_type": "markdown",
   "metadata": {},
   "source": [
    "We'll build two functions we can use to analyze the frequency tables:\n",
    "\n",
    "* One function to generate frequency tables that show percentages\n",
    "* Another function we can use to display the percentages in a descending order"
   ]
  },
  {
   "cell_type": "code",
   "execution_count": 193,
   "metadata": {},
   "outputs": [],
   "source": [
    "def freq_table(dataset, index):\n",
    "    frequency_table = dict()\n",
    "    total = 0\n",
    "\n",
    "    for row in dataset:\n",
    "        total += 1\n",
    "        data = row[index]\n",
    "        if data in frequency_table:\n",
    "            frequency_table[data] += 1 \n",
    "        else:\n",
    "            frequency_table[data] = 1 \n",
    "    \n",
    "    table_percent = dict()\n",
    "    for key in frequency_table:\n",
    "        percentage = (frequency_table[key] / total) * 100\n",
    "        table_percent[key] = round(percentage, 2) \n",
    "\n",
    "    return table_percent\n",
    "\n",
    "def display_table(dataset, index):\n",
    "    table = freq_table(dataset, index)\n",
    "    table_display = []\n",
    "    for key in table:\n",
    "        key_val_as_tuple = (table[key], key)\n",
    "        table_display.append(key_val_as_tuple)\n",
    "\n",
    "    table_sorted = sorted(table_display, reverse = True)\n",
    "    for entry in table_sorted:\n",
    "        print(entry[1], ':', entry[0], \"%\")\n",
    "    return table_sorted\n"
   ]
  },
  {
   "attachments": {},
   "cell_type": "markdown",
   "metadata": {},
   "source": [
    "Now we will analyze the frequency table we generated for the prime_genre column of the App Store dataset. We will answer the following questions. \n",
    "* What is the most common genre? What is the next most common?\n",
    "* What is the general impression — are most of the apps designed for practical purposes (education, shopping, utilities, productivity, lifestyle) or more for entertainment (games, photo and video, social networking, sports, music)?\n",
    "* Can you recommend an app profile for the App Store market based on this frequency table alone? If there's a large number of apps for a particular genre, does that also imply that apps of that genre generally have a large number of users?\n"
   ]
  },
  {
   "cell_type": "code",
   "execution_count": 197,
   "metadata": {},
   "outputs": [
    {
     "name": "stdout",
     "output_type": "stream",
     "text": [
      "Games : 58.16 %\n",
      "Entertainment : 7.88 %\n",
      "Photo & Video : 4.97 %\n",
      "Education : 3.66 %\n",
      "Social Networking : 3.29 %\n",
      "Shopping : 2.61 %\n",
      "Utilities : 2.51 %\n",
      "Sports : 2.14 %\n",
      "Music : 2.05 %\n",
      "Health & Fitness : 2.02 %\n",
      "Productivity : 1.74 %\n",
      "Lifestyle : 1.58 %\n",
      "News : 1.33 %\n",
      "Travel : 1.24 %\n",
      "Finance : 1.12 %\n",
      "Weather : 0.87 %\n",
      "Food & Drink : 0.81 %\n",
      "Reference : 0.56 %\n",
      "Business : 0.53 %\n",
      "Book : 0.43 %\n",
      "Navigation : 0.19 %\n",
      "Medical : 0.19 %\n",
      "Catalogs : 0.12 %\n"
     ]
    }
   ],
   "source": [
    "apple_prime_genre = display_table(apple_store_final, apple_store_header.index(\"prime_genre\"))"
   ]
  },
  {
   "cell_type": "code",
   "execution_count": 205,
   "metadata": {},
   "outputs": [
    {
     "name": "stdout",
     "output_type": "stream",
     "text": [
      "The most common genre in the Apple Store dataset: Games (58.16% of the free english apps)\n",
      "The next most common genre in the Apple Store dataset: Entertainment (7.88% of the free english apps)\n"
     ]
    }
   ],
   "source": [
    "# What is the most common genre? What is the next most common?\n",
    "print(f\"The most common genre in the Apple Store dataset: {apple_prime_genre[0][1]} ({apple_prime_genre[0][0]}% of the free english apps)\")\n",
    "print(f\"The next most common genre in the Apple Store dataset: {apple_prime_genre[1][1]} ({apple_prime_genre[1][0]}% of the free english apps)\")"
   ]
  },
  {
   "attachments": {},
   "cell_type": "markdown",
   "metadata": {},
   "source": [
    "\n",
    "* What is the most common genre? What is the next most common? - **The 'Games' genre is the most common genre in the Apple Store. The next common genre is the 'Entertainment' genre.**\n",
    "* What is the general impression — are most of the apps designed for practical purposes (education, shopping, utilities, productivity, lifestyle) or more for entertainment (games, photo and video, social networking, sports, music)? - **The most common kind of apps are the apps designed for fun (games, entertainment, photo and video, social networking, sports, music, etc.).**\n",
    "* Can you recommend an app profile for the App Store market based on this frequency table alone? If there's a large number of apps for a particular genre, does that also imply that apps of that genre generally have a large number of users? - **Yes, I would recommend to build an app that belongs to 'Games' genre. No, the large number for a particular genre dose not imply that the apps of that genre have a large number of users, the demand might not be the same as the offer.**"
   ]
  },
  {
   "cell_type": "code",
   "execution_count": 208,
   "metadata": {},
   "outputs": [
    {
     "name": "stdout",
     "output_type": "stream",
     "text": [
      "FAMILY : 18.9 %\n",
      "GAME : 9.73 %\n",
      "TOOLS : 8.46 %\n",
      "BUSINESS : 4.59 %\n",
      "LIFESTYLE : 3.9 %\n",
      "PRODUCTIVITY : 3.89 %\n",
      "FINANCE : 3.7 %\n",
      "MEDICAL : 3.53 %\n",
      "SPORTS : 3.4 %\n",
      "PERSONALIZATION : 3.32 %\n",
      "COMMUNICATION : 3.24 %\n",
      "HEALTH_AND_FITNESS : 3.08 %\n",
      "PHOTOGRAPHY : 2.94 %\n",
      "NEWS_AND_MAGAZINES : 2.8 %\n",
      "SOCIAL : 2.66 %\n",
      "TRAVEL_AND_LOCAL : 2.34 %\n",
      "SHOPPING : 2.25 %\n",
      "BOOKS_AND_REFERENCE : 2.14 %\n",
      "DATING : 1.86 %\n",
      "VIDEO_PLAYERS : 1.79 %\n",
      "MAPS_AND_NAVIGATION : 1.4 %\n",
      "FOOD_AND_DRINK : 1.24 %\n",
      "EDUCATION : 1.16 %\n",
      "ENTERTAINMENT : 0.96 %\n",
      "LIBRARIES_AND_DEMO : 0.94 %\n",
      "AUTO_AND_VEHICLES : 0.93 %\n",
      "HOUSE_AND_HOME : 0.82 %\n",
      "WEATHER : 0.8 %\n",
      "EVENTS : 0.71 %\n",
      "PARENTING : 0.65 %\n",
      "ART_AND_DESIGN : 0.64 %\n",
      "COMICS : 0.62 %\n",
      "BEAUTY : 0.6 %\n"
     ]
    }
   ],
   "source": [
    "google_category = display_table(google_store_final, google_store_header.index(\"Category\"))"
   ]
  },
  {
   "cell_type": "code",
   "execution_count": 212,
   "metadata": {},
   "outputs": [
    {
     "name": "stdout",
     "output_type": "stream",
     "text": [
      "The most common genre in the Google Play Store dataset: FAMILY (18.9% of the free english apps)\n",
      "The next most common genre in the Google Play Store dataset: GAME (9.73% of the free english apps)\n"
     ]
    }
   ],
   "source": [
    "# What is the most common genre? What is the next most common?\n",
    "print(f\"The most common genre in the Google Play Store dataset: {google_category[0][1]} ({google_category[0][0]}% of the free english apps)\")\n",
    "print(f\"The next most common genre in the Google Play Store dataset: {google_category[1][1]} ({google_category[1][0]}% of the free english apps)\")"
   ]
  },
  {
   "attachments": {},
   "cell_type": "markdown",
   "metadata": {},
   "source": [
    "* What are the most common category? - **The 'Family' genre is the most common category in the Apple Store. The next common category is the 'Game' category.**\n",
    "* Compare the patterns you see for the Google Play market with those you saw for the App Store market. - **The Google Play Store shows a more balanced landscape of both practical and for-fun apps.**\n",
    "* Can you recommend an app profile based on what you found so far? Do the frequency tables you generated reveal the most frequent app genres or what genres have the most users? - **Yes, I would recommend to build an app thats belongs to the 'Family' category. The frequency tables we generated only reveal the most common app genres.**"
   ]
  },
  {
   "attachments": {},
   "cell_type": "markdown",
   "metadata": {},
   "source": [
    "# 7) Most Popular Apps by Genre on the App Store"
   ]
  },
  {
   "attachments": {},
   "cell_type": "markdown",
   "metadata": {},
   "source": [
    "Now, we'd like to determine the kind of apps with the most users. For the Google Play data set, we can find this information in the Installs column, but this information is missing for the App Store data set. As a workaround, we'll take the total number of user ratings as a proxy, which we can find in the rating_count_tot app."
   ]
  },
  {
   "attachments": {},
   "cell_type": "markdown",
   "metadata": {},
   "source": [
    "Let's start with calculating the average number of user ratings per app genre on the App Store. To do that, we'll need to do the following:\n",
    "* Isolate the apps of each genre\n",
    "* Add up the user ratings for the apps of that genre\n",
    "* Divide the sum by the number of apps belonging to that genre (not by the total number of apps)"
   ]
  },
  {
   "cell_type": "code",
   "execution_count": 250,
   "metadata": {},
   "outputs": [
    {
     "name": "stdout",
     "output_type": "stream",
     "text": [
      "Average number of user ratings for 'Navigation' genre: 86090.33\n",
      "Average number of user ratings for 'Reference' genre: 74942.11\n",
      "Average number of user ratings for 'Social Networking' genre: 71548.35\n",
      "Average number of user ratings for 'Music' genre: 57326.53\n",
      "Average number of user ratings for 'Weather' genre: 52279.89\n",
      "Average number of user ratings for 'Book' genre: 39758.5\n",
      "Average number of user ratings for 'Food & Drink' genre: 33333.92\n",
      "Average number of user ratings for 'Finance' genre: 31467.94\n",
      "Average number of user ratings for 'Photo & Video' genre: 28441.54\n",
      "Average number of user ratings for 'Travel' genre: 28243.8\n",
      "Average number of user ratings for 'Shopping' genre: 26919.69\n",
      "Average number of user ratings for 'Health & Fitness' genre: 23298.02\n",
      "Average number of user ratings for 'Sports' genre: 23008.9\n",
      "Average number of user ratings for 'Games' genre: 22788.67\n",
      "Average number of user ratings for 'News' genre: 21248.02\n",
      "Average number of user ratings for 'Productivity' genre: 21028.41\n",
      "Average number of user ratings for 'Utilities' genre: 18684.46\n",
      "Average number of user ratings for 'Lifestyle' genre: 16485.76\n",
      "Average number of user ratings for 'Entertainment' genre: 14029.83\n",
      "Average number of user ratings for 'Business' genre: 7491.12\n",
      "Average number of user ratings for 'Education' genre: 7003.98\n",
      "Average number of user ratings for 'Catalogs' genre: 4004.0\n",
      "Average number of user ratings for 'Medical' genre: 612.0\n"
     ]
    }
   ],
   "source": [
    "#apple_prime_genre = display_table(apple_store_final, apple_store_header.index(\"prime_genre\"))\n",
    "apple_genres = freq_table(apple_store_final, apple_store_header.index(\"prime_genre\"))\n",
    "\n",
    "genre_ave_users = list()\n",
    "for genre in apple_genres:\n",
    "    total = 0\n",
    "    len_genre = 0\n",
    "    for row in apple_store_final:\n",
    "        genre_app = row[apple_store_header.index(\"prime_genre\")]\n",
    "        if genre == genre_app:\n",
    "            num_users = float(row[apple_store_header.index(\"rating_count_tot\")])\n",
    "            total += num_users\n",
    "            len_genre += 1\n",
    "    ave_users_rating = total / len_genre\n",
    "    genre_ave_users.append((round(ave_users_rating,2), genre))\n",
    "    #print(f\"The average number of user ratings for the '{genre}' genre: {ave_users_rating:.2f}\")\n",
    "\n",
    "for avg, genre in sorted(genre_ave_users, reverse=True):\n",
    "    print(f\"Average number of user ratings for '{genre}' genre: {avg}\")"
   ]
  },
  {
   "attachments": {},
   "cell_type": "markdown",
   "metadata": {},
   "source": [
    "On average, navigation apps have the highest number of user reviews. A practical app might have more of a chance to stand out among the huge number of apps on the App Store than a for-fun app. "
   ]
  },
  {
   "attachments": {},
   "cell_type": "markdown",
   "metadata": {},
   "source": [
    "# 8) Most Popular Apps by Genre on Google Play\n"
   ]
  },
  {
   "attachments": {},
   "cell_type": "markdown",
   "metadata": {},
   "source": [
    "We have data about the number of installs for the Google Play market, so we should be able to get a clearer picture about genre popularity."
   ]
  },
  {
   "cell_type": "code",
   "execution_count": 251,
   "metadata": {},
   "outputs": [
    {
     "name": "stdout",
     "output_type": "stream",
     "text": [
      "1,000,000+ : 15.73 %\n",
      "100,000+ : 11.55 %\n",
      "10,000,000+ : 10.55 %\n",
      "10,000+ : 10.2 %\n",
      "1,000+ : 8.39 %\n",
      "100+ : 6.92 %\n",
      "5,000,000+ : 6.83 %\n",
      "500,000+ : 5.56 %\n",
      "50,000+ : 4.77 %\n",
      "5,000+ : 4.51 %\n",
      "10+ : 3.54 %\n",
      "500+ : 3.25 %\n",
      "50,000,000+ : 2.3 %\n",
      "100,000,000+ : 2.13 %\n",
      "50+ : 1.92 %\n",
      "5+ : 0.79 %\n",
      "1+ : 0.51 %\n",
      "500,000,000+ : 0.27 %\n",
      "1,000,000,000+ : 0.23 %\n",
      "0+ : 0.05 %\n"
     ]
    }
   ],
   "source": [
    "google_installs = display_table(google_store_final, google_store_header.index(\"Installs\"))"
   ]
  },
  {
   "attachments": {},
   "cell_type": "markdown",
   "metadata": {},
   "source": [
    "We're going to leave the numbers as they are, which means that we'll consider that an app with 100,000+ installs has 100,000 installs, and an app with 1,000,000+ installs has 1,000,000 installs, and so on. To perform computations, however, we'll need to convert each install number from a string to a float. This means we need to remove the commas and the plus characters, or the conversion will fail and cause an error."
   ]
  },
  {
   "cell_type": "code",
   "execution_count": 259,
   "metadata": {},
   "outputs": [
    {
     "name": "stdout",
     "output_type": "stream",
     "text": [
      "Average number of user ratings for 'COMMUNICATION' genre: 38456119.17\n",
      "Average number of user ratings for 'VIDEO_PLAYERS' genre: 24727872.45\n",
      "Average number of user ratings for 'SOCIAL' genre: 23253652.13\n",
      "Average number of user ratings for 'PHOTOGRAPHY' genre: 17840110.4\n",
      "Average number of user ratings for 'PRODUCTIVITY' genre: 16787331.34\n",
      "Average number of user ratings for 'GAME' genre: 15588015.6\n",
      "Average number of user ratings for 'TRAVEL_AND_LOCAL' genre: 13984077.71\n",
      "Average number of user ratings for 'ENTERTAINMENT' genre: 11640705.88\n",
      "Average number of user ratings for 'TOOLS' genre: 10801391.3\n",
      "Average number of user ratings for 'NEWS_AND_MAGAZINES' genre: 9549178.47\n",
      "Average number of user ratings for 'BOOKS_AND_REFERENCE' genre: 8767811.89\n",
      "Average number of user ratings for 'SHOPPING' genre: 7036877.31\n",
      "Average number of user ratings for 'PERSONALIZATION' genre: 5201482.61\n",
      "Average number of user ratings for 'WEATHER' genre: 5074486.2\n",
      "Average number of user ratings for 'HEALTH_AND_FITNESS' genre: 4188821.99\n",
      "Average number of user ratings for 'MAPS_AND_NAVIGATION' genre: 4056941.77\n",
      "Average number of user ratings for 'FAMILY' genre: 3697848.17\n",
      "Average number of user ratings for 'SPORTS' genre: 3638640.14\n",
      "Average number of user ratings for 'ART_AND_DESIGN' genre: 1986335.09\n",
      "Average number of user ratings for 'FOOD_AND_DRINK' genre: 1924897.74\n",
      "Average number of user ratings for 'EDUCATION' genre: 1833495.15\n",
      "Average number of user ratings for 'BUSINESS' genre: 1712290.15\n",
      "Average number of user ratings for 'LIFESTYLE' genre: 1437816.27\n",
      "Average number of user ratings for 'FINANCE' genre: 1387692.48\n",
      "Average number of user ratings for 'HOUSE_AND_HOME' genre: 1331540.56\n",
      "Average number of user ratings for 'DATING' genre: 854028.83\n",
      "Average number of user ratings for 'COMICS' genre: 817657.27\n",
      "Average number of user ratings for 'AUTO_AND_VEHICLES' genre: 647317.82\n",
      "Average number of user ratings for 'LIBRARIES_AND_DEMO' genre: 638503.73\n",
      "Average number of user ratings for 'PARENTING' genre: 542603.62\n",
      "Average number of user ratings for 'BEAUTY' genre: 513151.89\n",
      "Average number of user ratings for 'EVENTS' genre: 253542.22\n",
      "Average number of user ratings for 'MEDICAL' genre: 120550.62\n"
     ]
    }
   ],
   "source": [
    "google_category = freq_table(google_store_final, google_store_header.index(\"Category\"))\n",
    "\n",
    "category_ave_installs = list()\n",
    "for category in google_category:\n",
    "    total = 0\n",
    "    len_category = 0\n",
    "    for row in google_store_final:\n",
    "        category_app = row[google_store_header.index(\"Category\")]\n",
    "        if category == category_app:\n",
    "            num_installs = row[google_store_header.index(\"Installs\")]\n",
    "            num_installs = float(num_installs.replace(\"+\", \"\").replace(\",\", \"\"))\n",
    "            total += num_installs\n",
    "            len_category += 1\n",
    "    ave_installs = total / len_category\n",
    "    category_ave_installs.append((round(ave_installs,2), category))\n",
    "    #print(f\"The average number of user ratings for the '{category}' genre: {ave_installs:.2f}\")\n",
    "\n",
    "for avg, category in sorted(category_ave_installs, reverse=True):\n",
    "    print(f\"Average number of user ratings for '{category}' genre: {avg}\")"
   ]
  },
  {
   "attachments": {},
   "cell_type": "markdown",
   "metadata": {},
   "source": [
    "After analyzing both stores, we think that building an app that belongs to the 'social media' category would be a good idea, since the genre 'social media' is very popular in both stores. "
   ]
  },
  {
   "attachments": {},
   "cell_type": "markdown",
   "metadata": {},
   "source": [
    "# Conclusions\n"
   ]
  },
  {
   "attachments": {},
   "cell_type": "markdown",
   "metadata": {},
   "source": [
    "In this project, we analyzed data about the App Store and Google Play mobile apps with the goal of recommending an app profile that can be profitable for both markets.\n",
    "\n",
    "We concluded that building a social media app could be profitable for both the Google Play and the App Store markets. The markets are already full of social media apps, so we need to add some special features. "
   ]
  }
 ],
 "metadata": {
  "kernelspec": {
   "display_name": "Python 3",
   "language": "python",
   "name": "python3"
  },
  "language_info": {
   "codemirror_mode": {
    "name": "ipython",
    "version": 3
   },
   "file_extension": ".py",
   "mimetype": "text/x-python",
   "name": "python",
   "nbconvert_exporter": "python",
   "pygments_lexer": "ipython3",
   "version": "3.10.1"
  },
  "orig_nbformat": 4
 },
 "nbformat": 4,
 "nbformat_minor": 2
}
